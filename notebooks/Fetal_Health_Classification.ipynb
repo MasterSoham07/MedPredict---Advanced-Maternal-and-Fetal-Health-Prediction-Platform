{
  "cells": [
    {
      "cell_type": "code",
      "execution_count": 2,
      "metadata": {
        "id": "2IZu2TACUU-z"
      },
      "outputs": [],
      "source": [
        "# Import Necessary Packages\n",
        "import numpy as np\n",
        "import pandas as pd"
      ]
    },
    {
      "cell_type": "code",
      "execution_count": 3,
      "metadata": {
        "id": "djZHmdr3Uwlg"
      },
      "outputs": [],
      "source": [
        "import warnings\n",
        "warnings.simplefilter(action =\"ignore\")\n"
      ]
    },
    {
      "cell_type": "code",
      "execution_count": 4,
      "metadata": {
        "id": "QjPVIOwtU33m"
      },
      "outputs": [],
      "source": [
        "from collections import Counter\n",
        "import warnings\n",
        "warnings.filterwarnings('ignore')"
      ]
    },
    {
      "cell_type": "code",
      "execution_count": 5,
      "metadata": {
        "id": "GaUS9OTEU7oh"
      },
      "outputs": [],
      "source": [
        "# Data visualization\n",
        "import matplotlib.pyplot as plt\n",
        "import seaborn as sns"
      ]
    },
    {
      "cell_type": "code",
      "execution_count": 6,
      "metadata": {
        "id": "wgM7Ypp3VAJR"
      },
      "outputs": [],
      "source": [
        "# Algorithms\n",
        "from sklearn.model_selection import cross_val_score\n",
        "from sklearn.model_selection import StratifiedKFold\n",
        "from sklearn.preprocessing import StandardScaler\n",
        "from sklearn.model_selection import train_test_split\n",
        "from sklearn import linear_model\n",
        "from sklearn.linear_model import LogisticRegression\n",
        "from sklearn.neighbors import KNeighborsClassifier\n",
        "from sklearn.ensemble import RandomForestClassifier\n",
        "from sklearn.ensemble import GradientBoostingClassifier\n",
        "from sklearn.model_selection import GridSearchCV\n",
        "from sklearn.metrics import classification_report, confusion_matrix\n",
        "from sklearn.metrics import mean_squared_error\n",
        "from sklearn.model_selection import learning_curve"
      ]
    },
    {
      "cell_type": "code",
      "execution_count": 10,
      "metadata": {
        "id": "w_0Q-wkkVaHi"
      },
      "outputs": [],
      "source": [
        "# Load Dataset\n",
        "data = pd.read_csv('fetal_health.csv')"
      ]
    },
    {
      "cell_type": "code",
      "execution_count": 11,
      "metadata": {
        "id": "jFnWz_viVJeD"
      },
      "outputs": [],
      "source": [
        "columns = ['baseline value', 'accelerations', 'fetal_movement',\n",
        "       'uterine_contractions', 'light_decelerations', 'severe_decelerations',\n",
        "       'prolongued_decelerations', 'abnormal_short_term_variability',\n",
        "       'mean_value_of_short_term_variability',\n",
        "       'percentage_of_time_with_abnormal_long_term_variability',\n",
        "       'mean_value_of_long_term_variability', 'histogram_width',\n",
        "       'histogram_min', 'histogram_max', 'histogram_number_of_peaks',\n",
        "       'histogram_number_of_zeroes', 'histogram_mode', 'histogram_mean',\n",
        "       'histogram_median', 'histogram_variance', 'histogram_tendency']\n",
        "scale_X = StandardScaler()\n",
        "X =  pd.DataFrame(scale_X.fit_transform(data.drop([\"fetal_health\"],axis = 1),), columns = columns)"
      ]
    },
    {
      "cell_type": "code",
      "execution_count": 12,
      "metadata": {
        "colab": {
          "base_uri": "https://localhost:8080/",
          "height": 273
        },
        "id": "y8TfHyr6VN11",
        "outputId": "26197129-0a94-4f5d-9e73-eba74e72fd1b"
      },
      "outputs": [
        {
          "data": {
            "text/html": [
              "<div>\n",
              "<style scoped>\n",
              "    .dataframe tbody tr th:only-of-type {\n",
              "        vertical-align: middle;\n",
              "    }\n",
              "\n",
              "    .dataframe tbody tr th {\n",
              "        vertical-align: top;\n",
              "    }\n",
              "\n",
              "    .dataframe thead th {\n",
              "        text-align: right;\n",
              "    }\n",
              "</style>\n",
              "<table border=\"1\" class=\"dataframe\">\n",
              "  <thead>\n",
              "    <tr style=\"text-align: right;\">\n",
              "      <th></th>\n",
              "      <th>baseline value</th>\n",
              "      <th>accelerations</th>\n",
              "      <th>fetal_movement</th>\n",
              "      <th>uterine_contractions</th>\n",
              "      <th>light_decelerations</th>\n",
              "      <th>severe_decelerations</th>\n",
              "      <th>prolongued_decelerations</th>\n",
              "      <th>abnormal_short_term_variability</th>\n",
              "      <th>mean_value_of_short_term_variability</th>\n",
              "      <th>percentage_of_time_with_abnormal_long_term_variability</th>\n",
              "      <th>...</th>\n",
              "      <th>histogram_width</th>\n",
              "      <th>histogram_min</th>\n",
              "      <th>histogram_max</th>\n",
              "      <th>histogram_number_of_peaks</th>\n",
              "      <th>histogram_number_of_zeroes</th>\n",
              "      <th>histogram_mode</th>\n",
              "      <th>histogram_mean</th>\n",
              "      <th>histogram_median</th>\n",
              "      <th>histogram_variance</th>\n",
              "      <th>histogram_tendency</th>\n",
              "    </tr>\n",
              "  </thead>\n",
              "  <tbody>\n",
              "    <tr>\n",
              "      <th>0</th>\n",
              "      <td>-1.352220</td>\n",
              "      <td>-0.822388</td>\n",
              "      <td>-0.20321</td>\n",
              "      <td>-1.482465</td>\n",
              "      <td>-0.638438</td>\n",
              "      <td>-0.057476</td>\n",
              "      <td>-0.268754</td>\n",
              "      <td>1.513190</td>\n",
              "      <td>-0.943095</td>\n",
              "      <td>1.802542</td>\n",
              "      <td>...</td>\n",
              "      <td>-0.165507</td>\n",
              "      <td>-1.068562</td>\n",
              "      <td>-2.119592</td>\n",
              "      <td>-0.701397</td>\n",
              "      <td>-0.458444</td>\n",
              "      <td>-1.065614</td>\n",
              "      <td>0.153270</td>\n",
              "      <td>-1.181642</td>\n",
              "      <td>1.870569</td>\n",
              "      <td>1.112980</td>\n",
              "    </tr>\n",
              "    <tr>\n",
              "      <th>1</th>\n",
              "      <td>-0.132526</td>\n",
              "      <td>0.730133</td>\n",
              "      <td>-0.20321</td>\n",
              "      <td>0.554627</td>\n",
              "      <td>0.375243</td>\n",
              "      <td>-0.057476</td>\n",
              "      <td>-0.268754</td>\n",
              "      <td>-1.744751</td>\n",
              "      <td>0.868841</td>\n",
              "      <td>-0.535361</td>\n",
              "      <td>...</td>\n",
              "      <td>1.529124</td>\n",
              "      <td>-0.865539</td>\n",
              "      <td>1.893794</td>\n",
              "      <td>0.655137</td>\n",
              "      <td>0.958201</td>\n",
              "      <td>0.216638</td>\n",
              "      <td>0.089126</td>\n",
              "      <td>0.132038</td>\n",
              "      <td>-0.234998</td>\n",
              "      <td>-0.524526</td>\n",
              "    </tr>\n",
              "    <tr>\n",
              "      <th>2</th>\n",
              "      <td>-0.030884</td>\n",
              "      <td>-0.046128</td>\n",
              "      <td>-0.20321</td>\n",
              "      <td>1.233657</td>\n",
              "      <td>0.375243</td>\n",
              "      <td>-0.057476</td>\n",
              "      <td>-0.268754</td>\n",
              "      <td>-1.802928</td>\n",
              "      <td>0.868841</td>\n",
              "      <td>-0.535361</td>\n",
              "      <td>...</td>\n",
              "      <td>1.529124</td>\n",
              "      <td>-0.865539</td>\n",
              "      <td>1.893794</td>\n",
              "      <td>0.316003</td>\n",
              "      <td>0.958201</td>\n",
              "      <td>0.216638</td>\n",
              "      <td>0.024982</td>\n",
              "      <td>-0.006244</td>\n",
              "      <td>-0.200481</td>\n",
              "      <td>-0.524526</td>\n",
              "    </tr>\n",
              "    <tr>\n",
              "      <th>3</th>\n",
              "      <td>0.070757</td>\n",
              "      <td>-0.046128</td>\n",
              "      <td>-0.20321</td>\n",
              "      <td>1.233657</td>\n",
              "      <td>0.375243</td>\n",
              "      <td>-0.057476</td>\n",
              "      <td>-0.268754</td>\n",
              "      <td>-1.802928</td>\n",
              "      <td>1.208579</td>\n",
              "      <td>-0.535361</td>\n",
              "      <td>...</td>\n",
              "      <td>1.195333</td>\n",
              "      <td>-1.373097</td>\n",
              "      <td>0.333033</td>\n",
              "      <td>2.350804</td>\n",
              "      <td>-0.458444</td>\n",
              "      <td>-0.027600</td>\n",
              "      <td>-0.039162</td>\n",
              "      <td>-0.075385</td>\n",
              "      <td>-0.200481</td>\n",
              "      <td>1.112980</td>\n",
              "    </tr>\n",
              "    <tr>\n",
              "      <th>4</th>\n",
              "      <td>-0.132526</td>\n",
              "      <td>0.988886</td>\n",
              "      <td>-0.20321</td>\n",
              "      <td>1.233657</td>\n",
              "      <td>-0.638438</td>\n",
              "      <td>-0.057476</td>\n",
              "      <td>-0.268754</td>\n",
              "      <td>-1.802928</td>\n",
              "      <td>1.208579</td>\n",
              "      <td>-0.535361</td>\n",
              "      <td>...</td>\n",
              "      <td>1.195333</td>\n",
              "      <td>-1.373097</td>\n",
              "      <td>0.333033</td>\n",
              "      <td>1.672537</td>\n",
              "      <td>-0.458444</td>\n",
              "      <td>-0.027600</td>\n",
              "      <td>0.089126</td>\n",
              "      <td>-0.006244</td>\n",
              "      <td>-0.269516</td>\n",
              "      <td>1.112980</td>\n",
              "    </tr>\n",
              "  </tbody>\n",
              "</table>\n",
              "<p>5 rows × 21 columns</p>\n",
              "</div>"
            ],
            "text/plain": [
              "   baseline value  accelerations  fetal_movement  uterine_contractions  \\\n",
              "0       -1.352220      -0.822388        -0.20321             -1.482465   \n",
              "1       -0.132526       0.730133        -0.20321              0.554627   \n",
              "2       -0.030884      -0.046128        -0.20321              1.233657   \n",
              "3        0.070757      -0.046128        -0.20321              1.233657   \n",
              "4       -0.132526       0.988886        -0.20321              1.233657   \n",
              "\n",
              "   light_decelerations  severe_decelerations  prolongued_decelerations  \\\n",
              "0            -0.638438             -0.057476                 -0.268754   \n",
              "1             0.375243             -0.057476                 -0.268754   \n",
              "2             0.375243             -0.057476                 -0.268754   \n",
              "3             0.375243             -0.057476                 -0.268754   \n",
              "4            -0.638438             -0.057476                 -0.268754   \n",
              "\n",
              "   abnormal_short_term_variability  mean_value_of_short_term_variability  \\\n",
              "0                         1.513190                             -0.943095   \n",
              "1                        -1.744751                              0.868841   \n",
              "2                        -1.802928                              0.868841   \n",
              "3                        -1.802928                              1.208579   \n",
              "4                        -1.802928                              1.208579   \n",
              "\n",
              "   percentage_of_time_with_abnormal_long_term_variability  ...  \\\n",
              "0                                           1.802542       ...   \n",
              "1                                          -0.535361       ...   \n",
              "2                                          -0.535361       ...   \n",
              "3                                          -0.535361       ...   \n",
              "4                                          -0.535361       ...   \n",
              "\n",
              "   histogram_width  histogram_min  histogram_max  histogram_number_of_peaks  \\\n",
              "0        -0.165507      -1.068562      -2.119592                  -0.701397   \n",
              "1         1.529124      -0.865539       1.893794                   0.655137   \n",
              "2         1.529124      -0.865539       1.893794                   0.316003   \n",
              "3         1.195333      -1.373097       0.333033                   2.350804   \n",
              "4         1.195333      -1.373097       0.333033                   1.672537   \n",
              "\n",
              "   histogram_number_of_zeroes  histogram_mode  histogram_mean  \\\n",
              "0                   -0.458444       -1.065614        0.153270   \n",
              "1                    0.958201        0.216638        0.089126   \n",
              "2                    0.958201        0.216638        0.024982   \n",
              "3                   -0.458444       -0.027600       -0.039162   \n",
              "4                   -0.458444       -0.027600        0.089126   \n",
              "\n",
              "   histogram_median  histogram_variance  histogram_tendency  \n",
              "0         -1.181642            1.870569            1.112980  \n",
              "1          0.132038           -0.234998           -0.524526  \n",
              "2         -0.006244           -0.200481           -0.524526  \n",
              "3         -0.075385           -0.200481            1.112980  \n",
              "4         -0.006244           -0.269516            1.112980  \n",
              "\n",
              "[5 rows x 21 columns]"
            ]
          },
          "execution_count": 12,
          "metadata": {},
          "output_type": "execute_result"
        }
      ],
      "source": [
        "X.head()"
      ]
    },
    {
      "cell_type": "code",
      "execution_count": 13,
      "metadata": {
        "id": "pnZOwnrKVhj_"
      },
      "outputs": [],
      "source": [
        "y = data[\"fetal_health\"]"
      ]
    },
    {
      "cell_type": "code",
      "execution_count": 14,
      "metadata": {
        "id": "93hYdj_3VlaH"
      },
      "outputs": [],
      "source": [
        "# Importing train_test_split\n",
        "X_train, X_test, y_train, y_test = train_test_split(X, y, test_size = 0.3, random_state = 42, stratify = y)"
      ]
    },
    {
      "cell_type": "code",
      "execution_count": 15,
      "metadata": {
        "colab": {
          "base_uri": "https://localhost:8080/"
        },
        "id": "wfva68E3VnQO",
        "outputId": "0db8cc64-50ab-42fd-eb06-cfbe39afed40"
      },
      "outputs": [
        {
          "data": {
            "text/plain": [
              "((1488, 21), (638, 21), (1488,), (638,))"
            ]
          },
          "execution_count": 15,
          "metadata": {},
          "output_type": "execute_result"
        }
      ],
      "source": [
        "X_train.shape, X_test.shape, y_train.shape, y_test.shape"
      ]
    },
    {
      "cell_type": "code",
      "execution_count": 16,
      "metadata": {
        "id": "BMIomRytVp2m"
      },
      "outputs": [],
      "source": [
        "from sklearn.metrics import accuracy_score, roc_auc_score, precision_score, recall_score, f1_score"
      ]
    },
    {
      "cell_type": "markdown",
      "metadata": {
        "id": "WCNK-uoqVy9U"
      },
      "source": [
        "<h2>Model Building</h2>"
      ]
    },
    {
      "cell_type": "markdown",
      "metadata": {
        "id": "M0Wr87m0V4Uy"
      },
      "source": [
        "<h3>Gradient Boosting Classifier</h3>"
      ]
    },
    {
      "cell_type": "code",
      "execution_count": 17,
      "metadata": {
        "colab": {
          "base_uri": "https://localhost:8080/"
        },
        "id": "Eq7vyXjGVr4K",
        "outputId": "d5ec7615-54d2-423c-f269-afab680c906f"
      },
      "outputs": [
        {
          "name": "stdout",
          "output_type": "stream",
          "text": [
            "Accuracy: 0.93\n",
            "Precision: 0.93\n",
            "Recall: 0.93\n",
            "F1 Score: 0.93\n",
            "AUC: 0.97\n",
            "Specificity: 0.93\n"
          ]
        }
      ],
      "source": [
        "# Initialize and train the Gradient Boosting Classifier model\n",
        "gb_classifier = GradientBoostingClassifier(n_estimators=100, random_state=42)  # You can adjust the number of estimators\n",
        "gb_classifier.fit(X_train, y_train)\n",
        "\n",
        "# Make predictions on the test set\n",
        "y_pred = gb_classifier.predict(X_test)\n",
        "\n",
        "# Calculate evaluation metrics\n",
        "accuracy = accuracy_score(y_test, y_pred)\n",
        "precision = precision_score(y_test, y_pred, average='weighted')  # Weighted precision for multiclass\n",
        "recall = recall_score(y_test, y_pred, average='weighted')  # Weighted recall for multiclass\n",
        "f1 = f1_score(y_test, y_pred, average='weighted')  # Weighted F1 score for multiclass\n",
        "\n",
        "# Calculate AUC for multiclass\n",
        "y_scores = gb_classifier.predict_proba(X_test)\n",
        "auc = roc_auc_score(y_test, y_scores, average='weighted', multi_class='ovr')\n",
        "\n",
        "# Calculate specificity for the entire multiclass problem\n",
        "confusion = confusion_matrix(y_test, y_pred)\n",
        "true_negatives = np.sum(np.diag(confusion))\n",
        "false_positives = np.sum(confusion) - true_negatives\n",
        "specificity = true_negatives / (true_negatives + false_positives)\n",
        "\n",
        "# Print the evaluation metrics, AUC, and specificity\n",
        "print(f\"Accuracy: {accuracy:.2f}\")\n",
        "print(f\"Precision: {precision:.2f}\")\n",
        "print(f\"Recall: {recall:.2f}\")\n",
        "print(f\"F1 Score: {f1:.2f}\")\n",
        "print(f\"AUC: {auc:.2f}\")\n",
        "print(f\"Specificity: {specificity:.2f}\")"
      ]
    },
    {
      "cell_type": "code",
      "execution_count": 18,
      "metadata": {
        "id": "0LAXZW_fWRoM"
      },
      "outputs": [],
      "source": [
        "import pickle"
      ]
    },
    {
      "cell_type": "code",
      "execution_count": 19,
      "metadata": {
        "id": "KaCgAGYUWh98"
      },
      "outputs": [],
      "source": [
        "pickle.dump(gb_classifier, open('fetal_health_classifier.sav', 'wb'))"
      ]
    },
    {
      "cell_type": "code",
      "execution_count": 1,
      "metadata": {
        "id": "3faA1hv1Wjtw"
      },
      "outputs": [
        {
          "name": "stdout",
          "output_type": "stream",
          "text": [
            "1.5.1\n"
          ]
        }
      ],
      "source": [
        "import sklearn\n",
        "print(sklearn.__version__)\n"
      ]
    },
    {
      "cell_type": "code",
      "execution_count": null,
      "metadata": {},
      "outputs": [],
      "source": []
    }
  ],
  "metadata": {
    "accelerator": "GPU",
    "colab": {
      "gpuType": "T4",
      "provenance": []
    },
    "kernelspec": {
      "display_name": "Python (tensorflow)",
      "language": "python",
      "name": "tensorflow"
    },
    "language_info": {
      "codemirror_mode": {
        "name": "ipython",
        "version": 3
      },
      "file_extension": ".py",
      "mimetype": "text/x-python",
      "name": "python",
      "nbconvert_exporter": "python",
      "pygments_lexer": "ipython3",
      "version": "3.11.5"
    }
  },
  "nbformat": 4,
  "nbformat_minor": 0
}
